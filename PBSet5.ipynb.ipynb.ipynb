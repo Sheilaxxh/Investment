{
 "cells": [
  {
   "cell_type": "markdown",
   "metadata": {
    "id": "N3bxjfJFYyKm"
   },
   "source": [
    "##Exercise 1"
   ]
  },
  {
   "cell_type": "markdown",
   "metadata": {
    "id": "5E39snp4YyN8"
   },
   "source": [
    "**a)**\n",
    "\n",
    "The $w_a$ solves $max (E[R_p]-\\frac a 2 V[R_p])$ under the condition $w_a^T*\\mathbb{1}=1 $ (the sum of the weight is 1 in every portfolio since there is no risk free asset).\n",
    "\n",
    "We set the Lagrangian: $$L=w_a^T-\\frac a 2 w_a^T \\Sigma w_a -\\lambda*(1-w_a*\\mathbb{1})$$\n",
    "Thus the first order conditions are:\n",
    "$$\\frac {\\delta L}{\\delta w}=0 \\iff w_a=\\frac 1 a \\Sigma^{-1}(\\mu-\\lambda*\\mathbb{1}) $$ and $$\\frac {\\delta L}{\\delta \\lambda}=0 \\iff w_a^T*\\mathbb{1}=1$$ we can put this second equation into the first so $$ \\lambda=\\frac {a(-1+\\frac 1 a \\mathbb{1}*\\Sigma^{-1}\\mu)} {\\mathbb{1}^T*\\Sigma^{-1}*\\mathbb{1}} =\\frac {B-a} A$$ and $$ w_a=\\frac 1 a \\Sigma ^{-1}(\\mu+\\frac {a-B}A *\\mathbb{1})$$ where $A = \\mathbb{1}^T*\\Sigma^{-1}*\\mathbb{1}$ and $B = \\mathbb{1}*\\Sigma^{-1}\\mu$"
   ]
  },
  {
   "cell_type": "markdown",
   "metadata": {
    "id": "wffM9NmBYyRK"
   },
   "source": [
    "We use the market clearing condition: $$w_m=\\Sigma_i w^i\\frac{W^i}W=\\Sigma_i \\frac 1 {a^i} \\Sigma ^{-1}(\\mu+\\frac {a^i-B}A *\\mathbb{1}) \\frac{W^i}W = \\Sigma^{-1}(\\mu \\underbrace{\\Sigma_i \\frac 1 {a^i} \\frac{W^i}W}_{=\\frac 1 a} + (\\frac 1 {A} \\underbrace{\\Sigma_i \\frac{W^i}W}_{=1} - \\frac B A \\underbrace{\\Sigma_i \\frac 1 {a^i} \\frac{W^i}W}_{=\\frac 1 a})*\\mathbb{1}) = \\Sigma^{-1}(\\mu \\frac 1 {a} + (\\frac 1 {A} - \\frac B A \\frac 1 {a})*1) = \\frac 1 a \\Sigma^{-1}(\\mu+\\frac{a-B}A *\\mathbb{1}) $$\n",
    "\n",
    "Thus the portfolio is mean-variance efficient, for the market risk aversion."
   ]
  },
  {
   "cell_type": "markdown",
   "metadata": {
    "id": "bj3IpFJDYyUM"
   },
   "source": [
    "We know that we can write $w_i=b_i w_{slope} +(1-b_i) w_{min} $ with $b_i=\\frac B {a^i}$, $w_{min}=\\frac {\\Sigma^{-1}*\\mathbb{1}}{\\mathbb{1}^T*\\Sigma^{-1}*\\mathbb{1}}$ and $w_{slope}= \\frac {\\Sigma^{-1}\\mu}{\\mathbb{1}^T*\\Sigma^{-1}\\mu}$ (we can develop this expression and verify it is equal to the above proven expression of $w_m$)\n",
    "\n",
    "Thus $w_m=\\Sigma_i w^i \\frac {W^i} W = b_M w_{slope} +(1-b_M) w_{min} $ with $b_M=\\Sigma_i \\frac {W^i} W b_i$. \n",
    "\n",
    "We have $Cov(R, R_m)= \\Sigma w_m=\\Sigma (b_M w_{slope} +(1-b_M) w_{min})=\\frac {b_M} B \\mu + \\frac {1-b_M} A *\\mathbb{1}$ so $\\mu=\\frac B {b_M} (Cov(R, R_m)-\\frac {1-b_M} A*\\mathbb{1})$\n",
    "\n",
    "Thus $ \\sigma^2_m=w_m^T \\Sigma w_m=\\frac {b_M} B w_m^T\\mu + \\frac {1-b_M} A w^T_m*\\mathbb{1} = w_m^T \\Sigma w_m=\\frac {b_M} B \\mu_m + \\frac {1-b_M} A$. \n",
    "Since the beta-zero portfolio z is also a min-variance portfolio (with no correlation with the market portfolio by construction): $0=Cov(R_z,R_m)= w_z^TCov(R,R_m)=\\frac {b_M} B \\mu_z + \\frac {1-b_M} A$ \n",
    "\n",
    "Thereby : $\\frac {b_M} B = \\frac{\\sigma^2_m}{\\mu_m-\\mu_z}$ and $\\frac{1-b_M} A = \\frac {-b_M} B \\mu_z$\n",
    "\n",
    "Thus $\\mu=\\frac B {b_M} (Cov(R, R_m)-\\frac {1-b_M} A*\\mathbb{1}) = \\frac{\\mu_m-\\mu_z}{\\sigma^2_m} (Cov(R, R_m) + \\frac {b_M} B \\mu_z * \\mathbb{1}) = \\mu_z *\\mathbb{1} + \\beta (\\mu_m-\\mu_z)$ with $\\beta=\\frac {Cov(R, R_m)}{V(R_m)}$"
   ]
  },
  {
   "cell_type": "markdown",
   "metadata": {
    "id": "FCqziFXxYyWl"
   },
   "source": [
    "The standard CAPM with a risk free rate has as SML: $ \\mu=R_0+\\beta(\\mu_M-R_0)$ with $\\beta=\\frac{Cov(R,R_M)}{V(R_M)}$\n",
    "\n",
    "Thereby the slope of our SML is flatter than the CAPM one if $\\mu_z>R_0$"
   ]
  },
  {
   "cell_type": "markdown",
   "metadata": {
    "id": "eihvP3vzYyd1"
   },
   "source": [
    "**b)**\n",
    "\n",
    "\n",
    "Now we assume a risk free rate asset exists, and it possible to borrow up to a fraction $l^i$ of your wealth. Thus we no longer have as constraint $w_a^T*\\mathbf{1}=1 $, but $m_iw_i^T \\mathbf{1} \\leq 1$ with $m_i=\\frac 1 {l^i+1}$ and $w^i$ the vector of weights of the optimal portfolio for investor i: for example, if we can borrow up to 100% of your wealth ($l^i=1$), $w_0=1-w_i^T\\mathbf{1}$ must stay above -1 so the total coefficients of the risky assets $w_i^T\\mathbf{1}$ is bellow 2 ($m_i=0.5$).\n",
    "\n",
    "Thus the Lagrangian is now: $$L=(1-w^T\\mathbf{1})R_0+w^T\\mu-\\frac {a_i} 2 w^T \\Sigma w -\\lambda_i*(1-m_iw^T*\\mathbf{1})$$ Thus the following first order conditions: $$\\frac {\\delta L}{\\delta w}=0 \\iff w^{i}=\\frac 1 {a_i} \\Sigma^{-1}(\\mu-\\mathbf{1}R_0-\\lambda_i m_i*\\mathbf{1}) $$ \n",
    "$$\\frac {\\delta L}{\\delta \\lambda_i} \\leq 0 \\iff m_i\\mathbf{1}^T w^i \\leq 1 $$ so $1 \\geq \\frac{m_i}{a_i}(\\mathbf{1}^T\\Sigma^{-1}\\mu-R_0\\mathbf{1}^T\\Sigma^{-1}\\mathbf{1}-\\lambda_i m_i\\mathbf{1}^T\\Sigma^{-1}\\mathbf{1}) $ i.e. $\\lambda_i \\leq \\frac{B-R_0A-\\frac{a_i}{m_i}}{m_iA}$\n",
    "\n",
    "We have that the tangeancy portfolio is $w_{tan}=\\frac{\\Sigma^{-1}(\\mu-R_0\\mathbf{1})}{B-AR_0}$ and the minimum variance portfolio is $w_{min}= \\frac{\\Sigma^{-1}\\mathbf{1}}A$ thus $$w^{i}=\\frac 1 {a_i} \\Sigma^{-1}(\\mu-R_0\\mathbf{1})\\frac {B-AR_0} {B-AR_0}-\\frac {m_i} {a_i} \\lambda_i A\\frac{\\Sigma^{-1}*\\mathbf{1}}A $$ and finally $$ w^{i}=\\frac {B-AR_0} {a_i} w_{tan}-\\frac {m_i} {a_i} \\lambda_i A w_{min}$$ and $$w_0=1-\\mathbf{1}^Tw^i $$\n",
    "\n",
    "Therefore, the optimal portfolio is a combination of the riskless asset with weight $w_0$ and the risk assets with weight $w^i$ which is a linear combination of $w_{tan}$ and $w_{min}$."
   ]
  },
  {
   "cell_type": "markdown",
   "metadata": {
    "id": "LLwBJpgWXjVq"
   },
   "source": [
    "**c)**\n",
    "\n"
   ]
  },
  {
   "cell_type": "markdown",
   "metadata": {
    "id": "Y7NzaiLEXqKw"
   },
   "source": [
    "We define $a$ as the weighted average risk aversion in the economy: $a = (\\Sigma_i (\\frac 1 {a_i}\\frac{W^i}W))^{-1}$.\n",
    "\n",
    "We use the market clearing condition: $$w_m=\\Sigma_i w^i\\frac{W^i}W=\\Sigma_i \\frac 1 {a_i} \\Sigma^{-1}(\\mu-R_0\\mathbf{1}-\\lambda_im_i*\\mathbf{1}) \\frac{W^i}W =  \\Sigma^{-1}( \\underbrace{\\Sigma_i (\\frac 1 {a_i}\\frac{W^i}W)}_{=\\frac 1 a}\\mu-R_0\\underbrace{\\Sigma_i (\\frac 1 {a_i}\\frac{W^i}W)}_{=\\frac 1 a}\\mathbf{1}-\\underbrace{\\Sigma_i (\\frac 1 {a_i}\\lambda_i m_i \\frac{W^i}W)}_{=\\psi*\\frac 1 a}*\\mathbf{1})$$\n",
    "with $$\\psi=a*\\Sigma_i (\\lambda_i m_i \\frac 1 {a_i}\\frac{W^i}W)=\\Sigma_i (\\frac a {a_i} \\lambda_i m_i \\frac{W^i}W)=\\Sigma_i (w_i \\frac{\\lambda_i}{1+l^i})$$ as $m_i=\\frac 1 {1+l^i} $, hence, $$w_m=\\frac 1 a \\Sigma^{-1}(\\mu-R_0\\mathbf{1}-\\psi\\mathbf{1}) $$"
   ]
  },
  {
   "cell_type": "markdown",
   "metadata": {
    "id": "g1ThFn6dXqRm"
   },
   "source": [
    "We also have \n",
    "$Cov(R, R_m)= \\Sigma w_m=\\frac 1 {a}(\\mu-R_0\\mathbf{1}-\\psi\\mathbf{1})$  and the variance of the market portfolio can be written as $ \\sigma_m^2=w_m^TCov(R,R_m)=\\frac 1 {a}(\\mu_m-R_0-\\psi)$ as the market portfolio is such that $w_m^T\\mathbf{1}=1 $\n",
    "\n",
    "Thus, by dividing the first equation by the second and reorganizing the equality we found $$\\mu=(R_0+\\psi)\\mathbf{1}+\\beta(\\mu_m-R_0-\\psi)$$ with $\\beta=\\frac {Cov(R,R_m)} {Var(R_m)}$ which can be rewritten for any risky asset n: $$\\mu_n=(R_0+\\psi)+\\beta_n(\\mu_m-R_0-\\psi)$$ with $\\beta_n=\\frac {Cov(R_n,R_m)} {Var(R_m)}$\n"
   ]
  },
  {
   "cell_type": "markdown",
   "metadata": {
    "id": "Ht0aUv0DXx0Y"
   },
   "source": [
    "We have a mean-variance efficient portfolio if and only if $\\psi=0$. Thus, if $\\Sigma_i (w^i \\frac{\\lambda_i}{1+l^i}) =0$ so if all investors are unconstrained on their leverage ($\\lambda_i=0$ so $B-AR_0-\\frac{a_i}{m_i}=0$ and $m_i(B-AR_0)= a_i$ or $m_i$ is infinite and $a_i$ can take any value) or don't invest in any risky asset ($w^i=0$ so $a_i$ is infinite (only investing in risk free asset => infinitely risk adverse))."
   ]
  },
  {
   "cell_type": "markdown",
   "metadata": {
    "id": "5_tULpC7Yyfk"
   },
   "source": [
    "##Exercise 2"
   ]
  },
  {
   "cell_type": "code",
   "execution_count": 1,
   "metadata": {
    "colab": {
     "base_uri": "https://localhost:8080/"
    },
    "id": "tdkxeEqhXdVy",
    "outputId": "b705f0f0-4afe-4fb6-d922-2f997a272312"
   },
   "outputs": [
    {
     "name": "stdout",
     "output_type": "stream",
     "text": [
      "Looking in indexes: https://pypi.org/simple, https://us-python.pkg.dev/colab-wheels/public/simple/\n",
      "Collecting wrds\n",
      "  Downloading wrds-3.1.6-py3-none-any.whl (12 kB)\n",
      "Requirement already satisfied: pandas in /usr/local/lib/python3.9/dist-packages (from wrds) (1.4.4)\n",
      "Requirement already satisfied: scipy in /usr/local/lib/python3.9/dist-packages (from wrds) (1.10.1)\n",
      "Collecting psycopg2-binary\n",
      "  Downloading psycopg2_binary-2.9.5-cp39-cp39-manylinux_2_17_x86_64.manylinux2014_x86_64.whl (3.0 MB)\n",
      "\u001b[2K     \u001b[90m━━━━━━━━━━━━━━━━━━━━━━━━━━━━━━━━━━━━━━━━\u001b[0m \u001b[32m3.0/3.0 MB\u001b[0m \u001b[31m26.7 MB/s\u001b[0m eta \u001b[36m0:00:00\u001b[0m\n",
      "\u001b[?25hRequirement already satisfied: numpy in /usr/local/lib/python3.9/dist-packages (from wrds) (1.22.4)\n",
      "Requirement already satisfied: sqlalchemy<2 in /usr/local/lib/python3.9/dist-packages (from wrds) (1.4.47)\n",
      "Requirement already satisfied: greenlet!=0.4.17 in /usr/local/lib/python3.9/dist-packages (from sqlalchemy<2->wrds) (2.0.2)\n",
      "Requirement already satisfied: pytz>=2020.1 in /usr/local/lib/python3.9/dist-packages (from pandas->wrds) (2022.7.1)\n",
      "Requirement already satisfied: python-dateutil>=2.8.1 in /usr/local/lib/python3.9/dist-packages (from pandas->wrds) (2.8.2)\n",
      "Requirement already satisfied: six>=1.5 in /usr/local/lib/python3.9/dist-packages (from python-dateutil>=2.8.1->pandas->wrds) (1.16.0)\n",
      "Installing collected packages: psycopg2-binary, wrds\n",
      "Successfully installed psycopg2-binary-2.9.5 wrds-3.1.6\n"
     ]
    }
   ],
   "source": [
    "!pip install wrds\n",
    "\n",
    "import wrds\n",
    "import seaborn as sns\n",
    "import pandas as pd\n",
    "import numpy as np\n",
    "import statsmodels.formula.api as smf\n",
    "import statsmodels.api as sm"
   ]
  },
  {
   "cell_type": "code",
   "execution_count": 2,
   "metadata": {
    "colab": {
     "base_uri": "https://localhost:8080/"
    },
    "id": "x5DHdIFs0kQn",
    "outputId": "6d9f53d0-987c-4dd8-8ebb-a2eb5fa70d2a"
   },
   "outputs": [
    {
     "name": "stdout",
     "output_type": "stream",
     "text": [
      "Enter your WRDS username [root]:rjaccard\n",
      "Enter your password:··········\n",
      "WRDS recommends setting up a .pgpass file.\n",
      "Create .pgpass file now [y/n]?: y\n",
      "Created .pgpass file successfully.\n",
      "You can create this file yourself at any time with the create_pgpass_file() function.\n",
      "Loading library list...\n",
      "Done\n"
     ]
    }
   ],
   "source": [
    "db = wrds.Connection()"
   ]
  },
  {
   "cell_type": "code",
   "execution_count": 3,
   "metadata": {
    "id": "Hcys9HtT0kUT"
   },
   "outputs": [],
   "source": [
    "#---------------------------------------------\n",
    "# Risk Free Rate \n",
    "#---------------------------------------------\n",
    "Rf=db.raw_sql(\"\"\"select  mcaldt,tmytm \n",
    "           from crsp.tfz_mth_rf            \n",
    "            where kytreasnox = 2000001 \n",
    "           and mcaldt>='1928-01-01'\n",
    "            and mcaldt<='2004-12-31'\"\"\", date_cols=['mcaldt'])\n",
    "Rf['tmytm']=np.exp(Rf['tmytm']/12/100)-1\n",
    "Rf=Rf.rename(columns={ \"mcaldt\": \"date\",\"tmytm\": \"rf\"})\n",
    "\n",
    "\n",
    "#---------------------------------------------\n",
    "# Value Weighted Index Returns\n",
    "#---------------------------------------------\n",
    "Rm=db.raw_sql(\"\"\"select  date,vwretd from crsp.msi \n",
    "                where date>='1928-01-01' and date<='2004-12-31'\n",
    "                \"\"\",date_cols=['date'])\n",
    "Rm = Rm.rename(columns={'vwretd':'Rm'})\n",
    "\n",
    "#---------------------------------------------\n",
    "# Stock Returns \n",
    "#---------------------------------------------\n",
    "stock_data = db.raw_sql(\"\"\"\n",
    "                    select a.permno, a.date, \n",
    "                      b.shrcd, b.exchcd,\n",
    "                      a.ret, a.shrout, a.prc\n",
    "                      from crsp.msf as a\n",
    "                      left join crsp.msenames as b\n",
    "                      on a.permno=b.permno\n",
    "                      and b.namedt<=a.date\n",
    "                      and a.date<=b.nameendt\n",
    "                      where a.date between '01/01/1928' and '12/31/2004'\n",
    "                      and b.exchcd between 1 and 2\n",
    "                      and b.shrcd between 10 and 11\n",
    "                      \"\"\", date_cols=['date']) \n",
    "stock_data=stock_data.drop(['shrcd','exchcd'],axis=1)\n",
    "stock_data = stock_data.rename(columns={'ret':'Rn'})\n",
    "stock_data['mcap'] = np.abs(stock_data['prc'])*stock_data['shrout']\n",
    "stock_data['mcap_l'] = stock_data.groupby(['permno'])['mcap'].shift(1)"
   ]
  },
  {
   "cell_type": "code",
   "execution_count": 4,
   "metadata": {
    "id": "2FNcqJm_0kXV"
   },
   "outputs": [],
   "source": [
    "#---------------------------------------------\n",
    "# Merge Data \n",
    "#---------------------------------------------\n",
    "data = pd.merge(stock_data, Rf, on=['date'], how='left')\n",
    "data = pd.merge(data, Rm, on=['date'], how='left')\n",
    "\n",
    "# Remove stocks with less than 60 observations\n",
    "data['N'] = data.groupby(['permno'])['date'].transform('count')\n",
    "data = data[data['N']>60].copy()\n",
    "\n",
    "data['const'] = 1\n",
    "data['Rn_e'] = data['Rn']-data['rf']\n",
    "data['Rm_e'] = data['Rm']-data['rf']\n",
    "\n",
    "# Remove nans\n",
    "data = data.dropna(subset=['mcap_l','Rn_e','Rm_e']).copy()\n",
    "\n",
    "### annualize all returns just once\n",
    "dt = 12\n",
    "data[['Rn','Rm','Rn_e','Rm_e','rf']] = data[['Rn','Rm','Rn_e','Rm_e','rf']]*dt"
   ]
  },
  {
   "cell_type": "code",
   "execution_count": 5,
   "metadata": {
    "id": "k32rx1ch0kZp"
   },
   "outputs": [],
   "source": [
    "### a) Estimating rolling betas\n",
    "idx = pd.IndexSlice\n",
    "cov_matrix = data.set_index('date')[['permno','Rm_e','Rn_e']] \\\n",
    "            .groupby('permno')                                              \\\n",
    "            .rolling(60, min_periods=36).cov() \n",
    "covs = cov_matrix.loc[idx[:,:, 'Rm_e'], 'Rn_e'].droplevel(2)\n",
    "mkt_vars = cov_matrix.loc[idx[:,:, 'Rm_e'], 'Rm_e'].droplevel(2)\n",
    "rolling_betas = pd.DataFrame(covs/mkt_vars, columns=['betas']).reset_index()\n",
    "\n",
    "rolling_betas.reset_index(inplace=True)\n",
    "\n",
    "data = rolling_betas.merge(data ,how=\"left\",on=['permno','date']).dropna()"
   ]
  },
  {
   "cell_type": "code",
   "execution_count": 6,
   "metadata": {
    "id": "KlR1FCMj0kdI"
   },
   "outputs": [],
   "source": [
    "### b) \n",
    "data.sort_values(['betas'],inplace = True)\n",
    "temp = data.groupby('date')\n",
    "dataframes_by_date = []\n",
    "for key, item in temp:\n",
    "    # We separate stocks into 'decile portfolios', indexed from 0 to 9\n",
    "    item['decile'] = pd.qcut(item['betas'], 10, labels=np.arange(10))\n",
    "    dataframes_by_date.append(item)\n",
    "stock_returns_with_deciles = pd.concat(dataframes_by_date)\n",
    "\n",
    "# We compute the weights in order to compute the value weighted portfolio\n",
    "stock_returns_with_deciles['w_m'] = stock_returns_with_deciles['mcap_l']/stock_returns_with_deciles.groupby(['date', 'decile'])['mcap_l'].transform('sum')\n",
    "\n",
    "\n",
    "def value_weight_returns(dataframe):\n",
    "  # We use the hint : the value weight must be lagged by one month\n",
    "  return (dataframe['w_m']*dataframe['Rn']).sum()\n",
    "\n",
    "def equal_weight_returns(dataframe):\n",
    "  return dataframe['Rn'].mean()\n",
    "\n",
    "\n",
    "# Value weighted portfolio of prior betas\n",
    "value_weighted_deciles_avg_portfolio = stock_returns_with_deciles.groupby(['decile','date']).apply(value_weight_returns).reset_index(level=[1])\n",
    "value_weighted_deciles_avg_portfolio.columns = ['date','Rn']\n",
    "value_weighted_deciles_avg_returns = value_weighted_deciles_avg_portfolio.reset_index()[['decile','Rn']].groupby('decile').mean()\n",
    "value_decile_portfolio_betas = {}\n",
    "\n",
    "\n",
    "# Equal weight portfolio of prior betas\n",
    "eq_weighted_deciles_avg_portfolio = stock_returns_with_deciles.groupby(['decile','date']).apply(equal_weight_returns).reset_index(level=[1])\n",
    "eq_weighted_deciles_avg_portfolio.columns = ['date','Rn']\n",
    "equal_weighted_deciles_avg_returns = eq_weighted_deciles_avg_portfolio.reset_index()[['decile','Rn']].groupby('decile').mean()\n",
    "eqweight_decile_portfolio_betas = {}\n"
   ]
  },
  {
   "cell_type": "code",
   "execution_count": 7,
   "metadata": {
    "colab": {
     "base_uri": "https://localhost:8080/",
     "height": 639
    },
    "id": "mo-8PJ-q0ke6",
    "outputId": "98c82bcd-dafe-4870-f3aa-cbc50c9c5c8a"
   },
   "outputs": [
    {
     "data": {
      "text/plain": [
       "<BarContainer object of 10 artists>"
      ]
     },
     "execution_count": 7,
     "metadata": {},
     "output_type": "execute_result"
    },
    {
     "data": {
      "image/png": "[encoded data removed]",
      "text/plain": [
       "<Figure size 1440x720 with 2 Axes>"
      ]
     },
     "metadata": {
      "needs_background": "light"
     },
     "output_type": "display_data"
    }
   ],
   "source": [
    "import seaborn as sns \n",
    "import matplotlib.pyplot as plt\n",
    "fig, ax = plt.subplots(1,2,figsize=(20,10))\n",
    "ax[0].set_ylabel('Annualized returns')\n",
    "ax[0].set_xlabel('Quantiles')\n",
    "ax[1].set_xlabel('Quantiles')\n",
    "ax[0].set_title('Equal weighted portfolio')\n",
    "ax[1].set_title('Value weighted portfolio')\n",
    "\n",
    "ax[0].bar(x = range(10),height=equal_weighted_deciles_avg_returns.values.flatten())\n",
    "ax[1].bar(x = range(10),height=value_weighted_deciles_avg_returns.values.flatten())"
   ]
  },
  {
   "cell_type": "code",
   "execution_count": 8,
   "metadata": {
    "id": "zju5HXrl0kkA"
   },
   "outputs": [],
   "source": [
    "### c) Constructing the BAB factor\n",
    "\n",
    "temp = data.groupby('date')\n",
    "dataframes_by_date = []\n",
    "for key, item in temp:\n",
    "    z = np.flip(np.arange(1,len(item)+1)) # [1, 2, ...,#numstocks], the ranks are just a sorted integer list, since we sort by beta\n",
    "    w = 2*(z - np.mean(z))/np.sum(np.abs((z-np.mean(z))))\n",
    "    item['w_H'] = np.where(w>0,w,0)\n",
    "    item['w_L'] = -np.where(w<0,w,0)\n",
    "    dataframes_by_date.append(item)\n",
    "stock_returns_with_BAB_weights = pd.concat(dataframes_by_date)"
   ]
  },
  {
   "cell_type": "code",
   "execution_count": 9,
   "metadata": {
    "id": "tDYJhHzX0-nS"
   },
   "outputs": [],
   "source": [
    "stock_returns_with_BAB_weights['shifted_betas'] = stock_returns_with_BAB_weights[['permno','betas']].groupby('permno').shift(1) \n",
    "stock_returns_with_BAB_weights['shifted_w_L'] = stock_returns_with_BAB_weights[['permno','w_L']].groupby('permno').shift(1) \n",
    "stock_returns_with_BAB_weights['shifted_w_H'] = stock_returns_with_BAB_weights[['permno','w_H']].groupby('permno').shift(1) \n",
    "stock_returns_with_BAB_weights = stock_returns_with_BAB_weights.dropna()\n",
    "def ret_bab(row):\n",
    "  long_position = ((row['Rn']*row['shifted_w_H']).sum() - row['rf'].mean())/((row['betas']*row['shifted_w_H']).sum())\n",
    "  short_position = ((row['Rn']*row['shifted_w_L']).sum() - row['rf'].mean())/((row['betas']*row['shifted_w_L']).sum())\n",
    "  return long_position - short_position\n",
    "BAB_returns = stock_returns_with_BAB_weights.groupby('date').apply(lambda row : ret_bab(row))"
   ]
  },
  {
   "cell_type": "code",
   "execution_count": 10,
   "metadata": {
    "id": "o_7pdePY0-rC"
   },
   "outputs": [],
   "source": [
    "BAB_returns = pd.DataFrame(BAB_returns, columns=[\"BAB_returns\"])\n",
    "BAB_regression = BAB_returns.merge(data,on='date')\n",
    "BAB_regression['BAB_premium'] = BAB_regression['BAB_returns'] - BAB_regression['rf']"
   ]
  },
  {
   "cell_type": "code",
   "execution_count": 11,
   "metadata": {
    "colab": {
     "base_uri": "https://localhost:8080/"
    },
    "id": "SmnRkCqc0-uS",
    "outputId": "46e31d00-6fbb-4c92-f248-752ac820f44d"
   },
   "outputs": [
    {
     "name": "stdout",
     "output_type": "stream",
     "text": [
      "BAB alpha : 9.542%,\n",
      "BAB Sharpe ratio : 0.1888243824103928, \n",
      "BAB beta : 0.5314183532548262, \n",
      "BAB Idiosyncratic Volatility : 0.6333504484414888\n"
     ]
    }
   ],
   "source": [
    "mod = smf.ols(formula='BAB_premium ~ Rm_e', data=BAB_regression) \n",
    "results = mod.fit()\n",
    "alpha, beta = results.params\n",
    "idiosyncratic_volatility = results.resid.std()\n",
    "sharpe_ratio =  BAB_regression['BAB_premium'].mean()/(BAB_regression['BAB_premium'].std())\n",
    "print(f\"BAB alpha : {alpha:.3%},\\nBAB Sharpe ratio : {sharpe_ratio}, \\nBAB beta : {beta}, \\nBAB Idiosyncratic Volatility : {idiosyncratic_volatility}\")"
   ]
  },
  {
   "cell_type": "markdown",
   "metadata": {
    "id": "BIBOChe11Hgy"
   },
   "source": [
    "__Exercise 2, question d)__\n",
    "\n",
    "The differences between $R^H_{t+1} - R^L_{t+1}$ can be summarized as follows :\n",
    "\n",
    "* The underlying objective of deriving a $R^L_{t+1} - R^H_{t+1}$ is to test the CAPM in the hope of finding anomalies that can explain excess returns. A first interesting property of a factor is that it should be comparable to the CAPM in terms of exposure to risk. The factor $R^L_{t+1} - R^H_{t+1}$ is clearly not equivalent to the CAPM in this sense, since we are assuming a long position in a class of stocks with markedly low risk according to the CAPM (due to small beta) and assuming a short position in a class of 'riskier stocks' (with higher beta). This first arguments motivates a 're-leveraged factor' of the form $\\frac{R^L_{t+1}}{\\beta_L} - \\frac{R^H_{t+1}}{\\beta_H}$.\n",
    "* A second interesting property of a factor is that it should be self-financing, in order for us to be able to assume positions without making assumptions on available capital. Note that $R^L_{t+1} - R^H_{t+1}$ is self-financing, but $\\frac{R^L_{t+1}}{\\beta_L} - \\frac{R^H_{t+1}}{\\beta_H}$ is not. We can recover the self-financing property lost in the previous operating by going 'short and long' on the risk free rate, in proportion to the reciprocal of the betas. We thus recover the BAB factor:\n",
    "\n",
    "$$\\frac{R^L_{t+1}-R_0}{\\beta_L} - \\frac{(R^H_{t+1}-R_0)}{\\beta_H}$$"
   ]
  },
  {
   "cell_type": "code",
   "execution_count": 12,
   "metadata": {
    "colab": {
     "base_uri": "https://localhost:8080/"
    },
    "id": "qWLCU8Ve1Nne",
    "outputId": "ee5bd3aa-ed6d-4ed8-c5fe-da8b78359e1b"
   },
   "outputs": [
    {
     "name": "stdout",
     "output_type": "stream",
     "text": [
      "0.8622105462009352\n",
      "Sharpe ratio of Market portfolio : 0.12103022755562791 \n",
      "Max Sharpe Ratio : 0.16692104619620163\n"
     ]
    }
   ],
   "source": [
    "#### e - Long-Short portfolios Optimal allocation\n",
    "#Note : use annualized for SR and IR\n",
    "maxSR = np.sqrt((data['Rm_e'].mean())**2 + (alpha/idiosyncratic_volatility)**2)\n",
    "print(data['Rm_e'].mean()*12)\n",
    "print(f\"Sharpe ratio of Market portfolio : {data['Rm_e'].mean()/data['Rm_e'].std()} \")\n",
    "print(f\"Max Sharpe Ratio : {maxSR}\")"
   ]
  },
  {
   "cell_type": "code",
   "execution_count": 13,
   "metadata": {
    "colab": {
     "base_uri": "https://localhost:8080/",
     "height": 297
    },
    "id": "af4SrLY31NxY",
    "outputId": "34da1ba3-d81b-4907-a575-4f6b5bc37946"
   },
   "outputs": [
    {
     "data": {
      "text/plain": [
       "<Axes: xlabel='date'>"
      ]
     },
     "execution_count": 13,
     "metadata": {},
     "output_type": "execute_result"
    },
    {
     "data": {
      "image/png": "[encoded data removed]",
      "text/plain": [
       "<Figure size 432x288 with 1 Axes>"
      ]
     },
     "metadata": {
      "needs_background": "light"
     },
     "output_type": "display_data"
    }
   ],
   "source": [
    "### f)\n",
    "rolling_mean_BAB_returns = BAB_returns.rolling(window=120, min_periods=120).mean().dropna()\n",
    "sns.lineplot(data = rolling_mean_BAB_returns)"
   ]
  },
  {
   "cell_type": "markdown",
   "metadata": {
    "id": "dNdcqXWK1Sqf"
   },
   "source": [
    "__f)__\n",
    "In general, it is expected that the BAB factor has higher returns when leverage constraints are tight. As discussed in the exercise session, one possible interpretation for the BAB factor is that it is the 'risk premium' associated with a position complementary to the 'risk-seeking, leveraged constrained investor'. The main reason being that the leverage constrained investor chooses to invest in high-beta stocks in order to maximize its utility, when his/her risk aversion is low. \n",
    "In this sense, in periods where actors were (in general) leverage constrained, either due to economic factors or through regulation, we expected that the risk premium of adopting a 'Betting against beta' to be large, and conversely, we expect returns of the BAB to be lower in periods when credit/leverage options are easily available."
   ]
  }
 ],
 "metadata": {
  "colab": {
   "provenance": []
  },
  "kernelspec": {
   "display_name": "Python 3",
   "language": "python",
   "name": "python3"
  },
  "language_info": {
   "codemirror_mode": {
    "name": "ipython",
    "version": 3
   },
   "file_extension": ".py",
   "mimetype": "text/x-python",
   "name": "python",
   "nbconvert_exporter": "python",
   "pygments_lexer": "ipython3",
   "version": "3.7.6"
  }
 },
 "nbformat": 4,
 "nbformat_minor": 1
}
